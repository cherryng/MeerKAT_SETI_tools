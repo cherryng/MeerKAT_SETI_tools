{
 "cells": [
  {
   "cell_type": "code",
   "execution_count": 32,
   "id": "coral-valuation",
   "metadata": {},
   "outputs": [],
   "source": [
    "from importlib import reload  \n",
    "from katpoint import katpoint\n",
    "katpoint = reload(katpoint)\n",
    "import coordinate as coord\n",
    "import sys\n",
    "import numpy as np\n",
    "\n",
    "\n",
    "#for p in sys.path:\n",
    "#    print(p)"
   ]
  },
  {
   "cell_type": "code",
   "execution_count": 33,
   "id": "spoken-symposium",
   "metadata": {},
   "outputs": [],
   "source": [
    "#This class is a copy from the Mosaic code https://gitlab.mpifr-bonn.mpg.de/wchen/Beamforming/tree/master/mosaic\n",
    "\n",
    "class DelayPolynomial(object):\n",
    "    \"\"\"\n",
    "    Class for generation of  delay polynomial\n",
    "\n",
    "    arguments:\n",
    "    antennas -- a list of antenna objects or coordinate in csv format\n",
    "    targets -- a list of beam location in equatorial coordinates\n",
    "    frequencies -- a list of frequencies on which the polynomail is calculated in Hz\n",
    "    reference -- the reference antenna for delay calculation\n",
    "    \"\"\"\n",
    "    def __init__(self, antennas, bore_sight, targets, reference):\n",
    "        \"\"\"\n",
    "        constructor of the Delay Polynomial class.\n",
    "\n",
    "        \"\"\"\n",
    "        self.antennas = antennas\n",
    "        self.targets = DelayPolynomial.check_targets(targets)\n",
    "        self.frequency = 1.4e9\n",
    "        self.reference = reference\n",
    "        self.bore_sight = DelayPolynomial.check_targets([bore_sight,])[0]\n",
    "        \n",
    "\n",
    "    @staticmethod\n",
    "    def check_targets(targets):\n",
    "        \"\"\"\n",
    "        check the target data type, the arguments will be converted to katpoint\n",
    "            object if they are not.\n",
    "\n",
    "        arguments:\n",
    "        targets -- a list of target objets in the format of\n",
    "            katpoint target object or set of [longitude, latitude, altitude]\n",
    "\n",
    "        return:\n",
    "            targets in katpoint object\n",
    "\n",
    "        \"\"\"\n",
    "        if isinstance(targets[0], katpoint.Target):\n",
    "            return targets\n",
    "        else:\n",
    "            return DelayPolynomial.make_katpoint_target(targets)\n",
    "\n",
    "    @staticmethod\n",
    "    def check_time(time):\n",
    "        \"\"\"\n",
    "        check the the data type of the time value. If the values are datetime\n",
    "            objects, they will be converted to seconds\n",
    "\n",
    "        arguments:\n",
    "        time -- epoch seconds or datetime objects\n",
    "\n",
    "        return:\n",
    "        time in epoch seconds\n",
    "        \"\"\"\n",
    "        if type(time) != int and type(time) != float:\n",
    "            return coord.datetimeToEpoch(time)\n",
    "        else:\n",
    "            return time\n",
    "\n",
    "    @staticmethod\n",
    "    def make_katpoint_target(sources):\n",
    "        \"\"\"\n",
    "        check the the data type of the source. If the values are in (RA, DEC) pair,\n",
    "        they will be converted to katpoint target object\n",
    "\n",
    "        arguments:\n",
    "        source -- source in either (RA, DEC) pairs or katpoint target objects\n",
    "\n",
    "        return:\n",
    "        katpoint target objects\n",
    "        \"\"\"\n",
    "\n",
    "        targets = []\n",
    "        for source in sources:\n",
    "            target_string = \",\".join(['radec',\n",
    "                            coord.angleToHour(source[0]),\n",
    "                            coord.angleToDEC(source[1])])\n",
    "            targets.append(katpoint.Target(target_string))\n",
    "        return targets\n",
    "\n",
    "    def get_delay_polynomials(self, epoch, duration=10.0):\n",
    "        \"\"\"\n",
    "        calculate and return the polynomials\n",
    "\n",
    "        Arguments:\n",
    "        timestamp -- the observation time in datatime object or epoch seconds\n",
    "        duration -- the duration in which the polynomial is calcuated\n",
    "\n",
    "        return:\n",
    "        polynomials in the order of beam, antenna, (delay, rate)\n",
    "\n",
    "        \"\"\"\n",
    "        timestamp = DelayPolynomial.check_time(epoch)\n",
    "        antennaObjectList = self.antennas\n",
    "        timestamp = (timestamp, timestamp + duration)\n",
    "\n",
    "        target_array = []\n",
    "        for target in self.targets:\n",
    "            dc = katpoint.DelayCorrection(self.antennas,\n",
    "                    self.reference, self.frequency)\n",
    "            delay, phase = dc.corrections(target, timestamp)\n",
    "            delayArray = np.array(dict_to_antenna_ordered_list(\n",
    "                        delay, self.antennas))\n",
    "\n",
    "            target_array.append(delayArray[:,0,:])\n",
    "        target_array = np.array(target_array)\n",
    "\n",
    "        dc = katpoint.DelayCorrection(self.antennas,\n",
    "            self.reference, self.frequency)\n",
    "        delay, phase = dc.corrections(self.bore_sight, timestamp)\n",
    "        bore_sight_delay = np.array(dict_to_antenna_ordered_list(\n",
    "                    delay, self.antennas))[:,0,:]\n",
    "\n",
    "        target_array = target_array - bore_sight_delay\n",
    "        return target_array\n",
    "\n",
    "def dict_to_antenna_ordered_list(dict_obj, antennas, pol='h'):\n",
    "    ordered_list = []\n",
    "    for antenna in antennas:\n",
    "        antenna_key = \"{}{}\".format(antenna.name, pol)\n",
    "        ordered_list.append(dict_obj[antenna_key])\n",
    "\n",
    "    return ordered_list\n"
   ]
  },
  {
   "cell_type": "code",
   "execution_count": 34,
   "id": "local-sharp",
   "metadata": {},
   "outputs": [
    {
     "name": "stdout",
     "output_type": "stream",
     "text": [
      "radec,1:2:3,4:5:6\n",
      "radec,7:8:9,-4:5:6\n"
     ]
    },
    {
     "data": {
      "text/plain": [
       "[<katpoint.Target 'Ra: 1:02:03.00 Dec: 4:05:06.0' body=radec at 0x109d655e0>,\n",
       " <katpoint.Target 'Ra: 7:08:09.00 Dec: -4:05:06.0' body=radec at 0x109d65820>]"
      ]
     },
     "execution_count": 34,
     "metadata": {},
     "output_type": "execute_result"
    }
   ],
   "source": [
    "#A list of targets to observe\n",
    "targets = []\n",
    "\n",
    "ha=\":\".join(['1','25','46.5336'])\n",
    "dec=\":\".join(['-30','42','39.815999'])\n",
    "target_string=\",\".join(['radec',ha,dec])\n",
    "targets.append(katpoint.Target(target_string))\n",
    "\n",
    "ha=\":\".join(['1','2','3'])\n",
    "dec=\":\".join(['4','5','6'])\n",
    "target_string=\",\".join(['radec',ha,dec])\n",
    "print(target_string)\n",
    "targets.append(katpoint.Target(target_string))\n",
    "\n",
    "ha=\":\".join(['7','8','9'])\n",
    "dec=\":\".join(['-4','5','6'])\n",
    "target_string=\",\".join(['radec',ha,dec])\n",
    "print(target_string)\n",
    "targets.append(katpoint.Target(target_string))\n",
    "\n",
    "targets\n"
   ]
  },
  {
   "cell_type": "code",
   "execution_count": 35,
   "id": "express-sight",
   "metadata": {},
   "outputs": [],
   "source": [
    "#Default boresight is at (\"1:25:46.5336\", \"-30:42:39.815999\")\n",
    "ha=\":\".join(['1','25','46.5336'])\n",
    "dec=\":\".join(['-30','42','39.815999'])\n",
    "target_string=\",\".join(['radec',ha,dec])\n",
    "defaultBoreSight=katpoint.Target(target_string)"
   ]
  },
  {
   "cell_type": "code",
   "execution_count": 43,
   "id": "blind-warren",
   "metadata": {},
   "outputs": [
    {
     "data": {
      "text/plain": [
       "(-0.5360090362073407, 0.3742664655429396, 1035.0)"
      ]
     },
     "execution_count": 43,
     "metadata": {},
     "output_type": "execute_result"
    }
   ],
   "source": [
    "#Reference antenna\n",
    "from coordinate import Antenna\n",
    "arrayRef = katpoint.Antenna('ref, -30:42:39.8, 21:26:38.0, 1035.0')\n",
    "arrayRef.position_wgs84"
   ]
  },
  {
   "cell_type": "code",
   "execution_count": 44,
   "id": "aerial-vessel",
   "metadata": {},
   "outputs": [
    {
     "name": "stdout",
     "output_type": "stream",
     "text": [
      "m000: 13-m dish at ENU offset [  -8.254  -207.2925    1.209 ] m from lat -30:42:39.8, long 21:26:38.0, alt 1035.0 m\n"
     ]
    }
   ],
   "source": [
    "#Load in antennas \n",
    "\"\"\"\n",
    "    Need a list of antenna objects or coordinate in csv format\n",
    "    katpoint.Antenna class says that the format for a fully-specified antenna should be: \n",
    "    'FF2, -30:43:17.3, 21:24:38.5, 1038.0, 12.0, 86.2 25.5 0.0, -0:06:39.6 0 0 0 0 0 0:09:48.9, 1.16'\n",
    "\n",
    "\"\"\"\n",
    "import csv\n",
    "ants=[]\n",
    "with open('antenna.csv', newline='') as csvfile:\n",
    "    data = csv.reader(csvfile, delimiter=',')\n",
    "    for row in data:\n",
    "         ants.append(katpoint.Antenna(', '.join(row)))\n",
    "\n",
    "print(ants[0])"
   ]
  },
  {
   "cell_type": "code",
   "execution_count": 45,
   "id": "painted-gallery",
   "metadata": {},
   "outputs": [
    {
     "name": "stdout",
     "output_type": "stream",
     "text": [
      "in delay, ants is a sequence of antennas\n",
      "ref: 0-m dish at lat -30:42:39.8, long 21:26:38.0, alt 1035.0 m\n",
      "(-0.5360090362073407, 0.3742664655429396, 1035.0)\n",
      "in delay, ants is a sequence of antennas\n",
      "ref: 0-m dish at lat -30:42:39.8, long 21:26:38.0, alt 1035.0 m\n",
      "(-0.5360090362073407, 0.3742664655429396, 1035.0)\n",
      "in delay, ants is a sequence of antennas\n",
      "ref: 0-m dish at lat -30:42:39.8, long 21:26:38.0, alt 1035.0 m\n",
      "(-0.5360090362073407, 0.3742664655429396, 1035.0)\n"
     ]
    }
   ],
   "source": [
    "#provide a random time for now\n",
    "test = DelayPolynomial(ants, defaultBoreSight, targets,arrayRef)\n",
    "time = 1203124953\n",
    "output = test.get_delay_polynomials(time)"
   ]
  },
  {
   "cell_type": "code",
   "execution_count": 46,
   "id": "bigger-antigua",
   "metadata": {},
   "outputs": [
    {
     "data": {
      "text/plain": [
       "(2, 64, 2)"
      ]
     },
     "execution_count": 46,
     "metadata": {},
     "output_type": "execute_result"
    }
   ],
   "source": [
    "#beam, antenna, (delay, rate)\n",
    "output.shape"
   ]
  }
 ],
 "metadata": {
  "kernelspec": {
   "display_name": "cherry-dev",
   "language": "python",
   "name": "cherry-dev"
  },
  "language_info": {
   "codemirror_mode": {
    "name": "ipython",
    "version": 3
   },
   "file_extension": ".py",
   "mimetype": "text/x-python",
   "name": "python",
   "nbconvert_exporter": "python",
   "pygments_lexer": "ipython3",
   "version": "3.9.2"
  }
 },
 "nbformat": 4,
 "nbformat_minor": 5
}
