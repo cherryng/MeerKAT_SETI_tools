{
 "cells": [
  {
   "cell_type": "code",
   "execution_count": 25,
   "id": "coral-valuation",
   "metadata": {},
   "outputs": [
    {
     "name": "stdout",
     "output_type": "stream",
     "text": [
      "/Users/cherryng/Work-Local/SETI/Softwares\n",
      "/usr/bin\n",
      "/Users/cherryng/Work-Local/SETI/Softwares/Mosaic/mosaic\n",
      "/Users/cherryng/Work-Local/SETI/Softwares/katpoint/katpoint\n",
      "/Users/cherryng/miniconda3/envs/cherry-dev/lib/python39.zip\n",
      "/Users/cherryng/miniconda3/envs/cherry-dev/lib/python3.9\n",
      "/Users/cherryng/miniconda3/envs/cherry-dev/lib/python3.9/lib-dynload\n",
      "\n",
      "/Users/cherryng/miniconda3/envs/cherry-dev/lib/python3.9/site-packages\n",
      "/Users/cherryng/miniconda3/envs/cherry-dev/lib/python3.9/site-packages/IPython/extensions\n",
      "/Users/cherryng/.ipython\n"
     ]
    }
   ],
   "source": [
    "from katpoint import katpoint\n",
    "import coordinate as coord\n",
    "import sys\n",
    "\n",
    "\n",
    "for p in sys.path:\n",
    "    print(p)"
   ]
  },
  {
   "cell_type": "code",
   "execution_count": null,
   "id": "identified-federation",
   "metadata": {},
   "outputs": [],
   "source": []
  },
  {
   "cell_type": "code",
   "execution_count": 31,
   "id": "spoken-symposium",
   "metadata": {},
   "outputs": [],
   "source": [
    "#This class is a copy from the Mosaic code https://gitlab.mpifr-bonn.mpg.de/wchen/Beamforming/tree/master/mosaic\n",
    "\n",
    "class DelayPolynomial(object):\n",
    "    \"\"\"\n",
    "    Class for generation of  delay polynomial\n",
    "\n",
    "    arguments:\n",
    "    antennas -- a list of antenna objects or coordinate in csv format\n",
    "    targets -- a list of beam location in equatorial coordinates\n",
    "    frequencies -- a list of frequencies on which the polynomail is calculated in Hz\n",
    "    reference -- the reference antenna for delay calculation\n",
    "    \"\"\"\n",
    "    def __init__(self, antennas, bore_sight, targets, reference):\n",
    "        \"\"\"\n",
    "        constructor of the Delay Polynomial class.\n",
    "\n",
    "        \"\"\"\n",
    "        self.antennas = antennas\n",
    "        self.targets = DelayPolynomial.check_targets(targets)\n",
    "        self.frequency = 1.4e9\n",
    "        self.reference = reference\n",
    "        self.bore_sight = DelayPolynomial.check_targets([bore_sight,])[0]\n",
    "\n",
    "    @staticmethod\n",
    "    def check_targets(targets):\n",
    "        \"\"\"\n",
    "        check the target data type, the arguments will be converted to katpoint\n",
    "            object if they are not.\n",
    "\n",
    "        arguments:\n",
    "        targets -- a list of target objets in the format of\n",
    "            katpoint target object or set of [longitude, latitude, altitude]\n",
    "\n",
    "        return:\n",
    "            targets in katpoint object\n",
    "\n",
    "        \"\"\"\n",
    "        if isinstance(targets[0], katpoint.Target):\n",
    "            return targets\n",
    "        else:\n",
    "            return DelayPolynomial.make_katpoint_target(targets)\n",
    "\n",
    "    @staticmethod\n",
    "    def check_time(time):\n",
    "        \"\"\"\n",
    "        check the the data type of the time value. If the values are datetime\n",
    "            objects, they will be converted to seconds\n",
    "\n",
    "        arguments:\n",
    "        time -- epoch seconds or datetime objects\n",
    "\n",
    "        return:\n",
    "        time in epoch seconds\n",
    "        \"\"\"\n",
    "        if type(time) != int and type(time) != float:\n",
    "            return coord.datetimeToEpoch(time)\n",
    "        else:\n",
    "            return time\n",
    "\n",
    "    @staticmethod\n",
    "    def make_katpoint_target(sources):\n",
    "        \"\"\"\n",
    "        check the the data type of the source. If the values are in (RA, DEC) pair,\n",
    "        they will be converted to katpoint target object\n",
    "\n",
    "        arguments:\n",
    "        source -- source in either (RA, DEC) pairs or katpoint target objects\n",
    "\n",
    "        return:\n",
    "        katpoint target objects\n",
    "        \"\"\"\n",
    "\n",
    "        targets = []\n",
    "        for source in sources:\n",
    "            target_string = \",\".join(['radec',\n",
    "                            coord.angleToHour(source[0]),\n",
    "                            coord.angleToDEC(source[1])])\n",
    "            targets.append(katpoint.Target(target_string))\n",
    "        return targets\n",
    "\n",
    "    def get_delay_polynomials(self, epoch, duration=10.0):\n",
    "        \"\"\"\n",
    "        calculate and return the polynomials\n",
    "\n",
    "        Arguments:\n",
    "        timestamp -- the observation time in datatime object or epoch seconds\n",
    "        duration -- the duration in which the polynomial is calcuated\n",
    "\n",
    "        return:\n",
    "        polynomials in the order of beam, antenna, (delay, rate)\n",
    "\n",
    "        \"\"\"\n",
    "        timestamp = DelayPolynomial.check_time(epoch)\n",
    "        antennaObjectList = self.antennas\n",
    "        timestamp = (timestamp, timestamp + duration)\n",
    "\n",
    "        target_array = []\n",
    "        for target in self.targets:\n",
    "            dc = katpoint.DelayCorrection(self.antennas,\n",
    "                    self.reference, self.frequency)\n",
    "            delay, phase = dc.corrections(target, timestamp)\n",
    "            delayArray = np.array(dict_to_antenna_ordered_list(\n",
    "                        delay, self.antennas))\n",
    "            \"\"\"\n",
    "            [:, 0, :]: only take first rate output\n",
    "            \"\"\"\n",
    "            target_array.append(delayArray[:,0,:])\n",
    "        target_array = np.array(target_array)\n",
    "        \"\"\"\n",
    "        subtract the boresight beam form the offset beams\n",
    "        \"\"\"\n",
    "        dc = katpoint.DelayCorrection(self.antennas,\n",
    "            self.reference, self.frequency)\n",
    "        delay, phase = dc.corrections(self.bore_sight, timestamp)\n",
    "        bore_sight_delay = np.array(dict_to_antenna_ordered_list(\n",
    "                    delay, self.antennas))[:,0,:]\n",
    "\n",
    "        target_array = target_array - bore_sight_delay\n",
    "        return target_array"
   ]
  },
  {
   "cell_type": "code",
   "execution_count": 46,
   "id": "extra-istanbul",
   "metadata": {},
   "outputs": [
    {
     "name": "stdout",
     "output_type": "stream",
     "text": [
      "radec,1:2:3,4:5:6\n",
      "radec,7:8:9,-4:5:6\n"
     ]
    },
    {
     "data": {
      "text/plain": [
       "[<katpoint.Target 'Ra: 1:02:03.00 Dec: 4:05:06.0' body=radec at 0x1a3291e50>,\n",
       " <katpoint.Target 'Ra: 7:08:09.00 Dec: -4:05:06.0' body=radec at 0x1a3291b20>]"
      ]
     },
     "execution_count": 46,
     "metadata": {},
     "output_type": "execute_result"
    }
   ],
   "source": [
    "#A list of targets to observe\n",
    "targets = []\n",
    "ha=\":\".join(['1','2','3'])\n",
    "dec=\":\".join(['4','5','6'])\n",
    "target_string=\",\".join(['radec',ha,dec])\n",
    "print(target_string)\n",
    "targets.append(katpoint.Target(target_string))\n",
    "\n",
    "ha=\":\".join(['7','8','9'])\n",
    "dec=\":\".join(['-4','5','6'])\n",
    "target_string=\",\".join(['radec',ha,dec])\n",
    "print(target_string)\n",
    "targets.append(katpoint.Target(target_string))\n",
    "\n",
    "targets\n"
   ]
  },
  {
   "cell_type": "code",
   "execution_count": 53,
   "id": "alone-possibility",
   "metadata": {},
   "outputs": [],
   "source": [
    "#Default boresight is at (\"1:25:46.5336\", \"-30:42:39.815999\")\n",
    "ha=\":\".join(['1','25','46.5336'])\n",
    "dec=\":\".join(['-30','42','39.815999'])\n",
    "target_string=\",\".join(['radec',ha,dec])\n",
    "defaultBoreSight=katpoint.Target(target_string)\n"
   ]
  },
  {
   "cell_type": "code",
   "execution_count": 54,
   "id": "corresponding-hygiene",
   "metadata": {},
   "outputs": [],
   "source": [
    "#Reference antenna\n",
    "from coordinate import Antenna\n",
    "arrayReferece = Antenna('ref', [-30.71106, 21.44389, 1035])"
   ]
  },
  {
   "cell_type": "code",
   "execution_count": 62,
   "id": "convertible-plant",
   "metadata": {},
   "outputs": [],
   "source": [
    "#Load in antennas \n",
    "import csv\n",
    "ants = []\n",
    "with open('antenna.csv', newline='') as csvfile:\n",
    "    data = csv.reader(csvfile, delimiter=',')\n",
    "    for row in data:\n",
    "        ants.append(row)\n"
   ]
  },
  {
   "cell_type": "code",
   "execution_count": 60,
   "id": "settled-creator",
   "metadata": {},
   "outputs": [],
   "source": [
    "test = DelayPolynomial(ants, defaultBoreSight, targets, arrayReferece)\n"
   ]
  },
  {
   "cell_type": "code",
   "execution_count": 63,
   "id": "south-programmer",
   "metadata": {},
   "outputs": [
    {
     "ename": "AttributeError",
     "evalue": "'list' object has no attribute 'ref_position_wgs84'",
     "output_type": "error",
     "traceback": [
      "\u001b[0;31m---------------------------------------------------------------------------\u001b[0m",
      "\u001b[0;31mAttributeError\u001b[0m                            Traceback (most recent call last)",
      "\u001b[0;32m<ipython-input-63-5f9d24e67a60>\u001b[0m in \u001b[0;36m<module>\u001b[0;34m\u001b[0m\n\u001b[1;32m      1\u001b[0m \u001b[0;31m#provide a random time for now\u001b[0m\u001b[0;34m\u001b[0m\u001b[0;34m\u001b[0m\u001b[0;34m\u001b[0m\u001b[0m\n\u001b[1;32m      2\u001b[0m \u001b[0mtime\u001b[0m \u001b[0;34m=\u001b[0m \u001b[0;36m1203124953\u001b[0m\u001b[0;34m\u001b[0m\u001b[0;34m\u001b[0m\u001b[0m\n\u001b[0;32m----> 3\u001b[0;31m \u001b[0mtest\u001b[0m\u001b[0;34m.\u001b[0m\u001b[0mget_delay_polynomials\u001b[0m\u001b[0;34m(\u001b[0m\u001b[0mtime\u001b[0m\u001b[0;34m)\u001b[0m\u001b[0;34m\u001b[0m\u001b[0;34m\u001b[0m\u001b[0m\n\u001b[0m",
      "\u001b[0;32m<ipython-input-31-eb234f940274>\u001b[0m in \u001b[0;36mget_delay_polynomials\u001b[0;34m(self, epoch, duration)\u001b[0m\n\u001b[1;32m     97\u001b[0m         \u001b[0mtarget_array\u001b[0m \u001b[0;34m=\u001b[0m \u001b[0;34m[\u001b[0m\u001b[0;34m]\u001b[0m\u001b[0;34m\u001b[0m\u001b[0;34m\u001b[0m\u001b[0m\n\u001b[1;32m     98\u001b[0m         \u001b[0;32mfor\u001b[0m \u001b[0mtarget\u001b[0m \u001b[0;32min\u001b[0m \u001b[0mself\u001b[0m\u001b[0;34m.\u001b[0m\u001b[0mtargets\u001b[0m\u001b[0;34m:\u001b[0m\u001b[0;34m\u001b[0m\u001b[0;34m\u001b[0m\u001b[0m\n\u001b[0;32m---> 99\u001b[0;31m             dc = katpoint.DelayCorrection(self.antennas,\n\u001b[0m\u001b[1;32m    100\u001b[0m                     self.reference, self.frequency)\n\u001b[1;32m    101\u001b[0m             \u001b[0mdelay\u001b[0m\u001b[0;34m,\u001b[0m \u001b[0mphase\u001b[0m \u001b[0;34m=\u001b[0m \u001b[0mdc\u001b[0m\u001b[0;34m.\u001b[0m\u001b[0mcorrections\u001b[0m\u001b[0;34m(\u001b[0m\u001b[0mtarget\u001b[0m\u001b[0;34m,\u001b[0m \u001b[0mtimestamp\u001b[0m\u001b[0;34m)\u001b[0m\u001b[0;34m\u001b[0m\u001b[0;34m\u001b[0m\u001b[0m\n",
      "\u001b[0;32m~/Work-Local/SETI/Softwares/katpoint/katpoint/delay.py\u001b[0m in \u001b[0;36m__init__\u001b[0;34m(self, ants, ref_ant, sky_centre_freq, extra_delay)\u001b[0m\n\u001b[1;32m    166\u001b[0m                 \u001b[0;32mraise\u001b[0m \u001b[0mValueError\u001b[0m\u001b[0;34m(\u001b[0m\u001b[0;34m'No reference antenna provided'\u001b[0m\u001b[0;34m)\u001b[0m\u001b[0;34m\u001b[0m\u001b[0;34m\u001b[0m\u001b[0m\n\u001b[1;32m    167\u001b[0m             \u001b[0;31m# Tolerances translate to micrometre differences (assume float64)\u001b[0m\u001b[0;34m\u001b[0m\u001b[0;34m\u001b[0m\u001b[0;34m\u001b[0m\u001b[0m\n\u001b[0;32m--> 168\u001b[0;31m             if any([not np.allclose(ant.ref_position_wgs84,\n\u001b[0m\u001b[1;32m    169\u001b[0m                                     ref_ant.position_wgs84, rtol=0., atol=1e-14)\n\u001b[1;32m    170\u001b[0m                     for ant in list(ants) + [ref_ant]]):\n",
      "\u001b[0;32m~/Work-Local/SETI/Softwares/katpoint/katpoint/delay.py\u001b[0m in \u001b[0;36m<listcomp>\u001b[0;34m(.0)\u001b[0m\n\u001b[1;32m    166\u001b[0m                 \u001b[0;32mraise\u001b[0m \u001b[0mValueError\u001b[0m\u001b[0;34m(\u001b[0m\u001b[0;34m'No reference antenna provided'\u001b[0m\u001b[0;34m)\u001b[0m\u001b[0;34m\u001b[0m\u001b[0;34m\u001b[0m\u001b[0m\n\u001b[1;32m    167\u001b[0m             \u001b[0;31m# Tolerances translate to micrometre differences (assume float64)\u001b[0m\u001b[0;34m\u001b[0m\u001b[0;34m\u001b[0m\u001b[0;34m\u001b[0m\u001b[0m\n\u001b[0;32m--> 168\u001b[0;31m             if any([not np.allclose(ant.ref_position_wgs84,\n\u001b[0m\u001b[1;32m    169\u001b[0m                                     ref_ant.position_wgs84, rtol=0., atol=1e-14)\n\u001b[1;32m    170\u001b[0m                     for ant in list(ants) + [ref_ant]]):\n",
      "\u001b[0;31mAttributeError\u001b[0m: 'list' object has no attribute 'ref_position_wgs84'"
     ]
    }
   ],
   "source": [
    "#provide a random time for now\n",
    "time = 1203124953\n",
    "test.get_delay_polynomials(time)"
   ]
  },
  {
   "cell_type": "code",
   "execution_count": null,
   "id": "bigger-antigua",
   "metadata": {},
   "outputs": [],
   "source": []
  }
 ],
 "metadata": {
  "kernelspec": {
   "display_name": "cherry-dev",
   "language": "python",
   "name": "cherry-dev"
  },
  "language_info": {
   "codemirror_mode": {
    "name": "ipython",
    "version": 3
   },
   "file_extension": ".py",
   "mimetype": "text/x-python",
   "name": "python",
   "nbconvert_exporter": "python",
   "pygments_lexer": "ipython3",
   "version": "3.9.2"
  }
 },
 "nbformat": 4,
 "nbformat_minor": 5
}
